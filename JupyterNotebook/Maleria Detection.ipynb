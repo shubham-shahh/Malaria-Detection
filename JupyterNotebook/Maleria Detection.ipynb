{
 "cells": [
  {
   "cell_type": "code",
   "execution_count": 20,
   "metadata": {},
   "outputs": [],
   "source": [
    "import pandas as pd\n",
    "from sklearn.model_selection import train_test_split\n",
    "from sklearn.ensemble import RandomForestClassifier, AdaBoostClassifier\n",
    "from sklearn import metrics\n",
    "import joblib"
   ]
  },
  {
   "cell_type": "code",
   "execution_count": 21,
   "metadata": {},
   "outputs": [],
   "source": [
    "dataframe = pd.read_csv(\"C:/Users/Shubham Shah/Desktop/Projects/MalariaDetection/Dataset/dataset.csv\")"
   ]
  },
  {
   "cell_type": "code",
   "execution_count": 22,
   "metadata": {},
   "outputs": [
    {
     "data": {
      "text/plain": [
       "<bound method NDFrame.head of              Label   area_0   area_1   area_2   area_3  area_4\n",
       "0      Parasitized    175.5    126.0    131.0   8902.5     0.0\n",
       "1      Parasitized    222.0   9847.5      0.0      0.0     0.0\n",
       "2      Parasitized    179.5    256.5  12413.0      0.0     0.0\n",
       "3      Parasitized     18.0    187.5   9306.5      0.0     0.0\n",
       "4      Parasitized    142.5    156.5   6669.5      0.0     0.0\n",
       "5      Parasitized    138.5  11861.5      0.0      0.0     0.0\n",
       "6      Parasitized    152.0  10117.0      0.0      0.0     0.0\n",
       "7      Parasitized     71.0    108.0  15554.0      0.0     0.0\n",
       "8      Parasitized  10340.0      0.0      0.0      0.0     0.0\n",
       "9      Parasitized    121.0  14125.0      0.0      0.0     0.0\n",
       "10     Parasitized     62.0     16.5  11089.5      0.0     0.0\n",
       "11     Parasitized     20.0  11977.5      0.0      0.0     0.0\n",
       "12     Parasitized     24.0    255.5     15.0  14765.0     0.0\n",
       "13     Parasitized    323.5  10981.0      0.0      0.0     0.0\n",
       "14     Parasitized    238.5  12020.5      0.0      0.0     0.0\n",
       "15     Parasitized    169.0    180.0  15965.0      0.0     0.0\n",
       "16     Parasitized      0.0      5.5   3210.0   8690.0     0.0\n",
       "17     Parasitized  12119.0      0.0      0.0      0.0     0.0\n",
       "18     Parasitized    298.5  14208.0      0.0      0.0     0.0\n",
       "19     Parasitized  10270.5      0.0      0.0      0.0     0.0\n",
       "20     Parasitized    322.5  12079.5      0.0      0.0     0.0\n",
       "21     Parasitized    154.5  15882.5      0.0      0.0     0.0\n",
       "22     Parasitized   5177.0   9470.0      0.0      0.0     0.0\n",
       "23     Parasitized     20.5  13677.0      0.0      0.0     0.0\n",
       "24     Parasitized    235.0     60.0     21.5  14438.5     0.0\n",
       "25     Parasitized  12133.0      0.0      0.0      0.0     0.0\n",
       "26     Parasitized    205.0  12621.5      0.0      0.0     0.0\n",
       "27     Parasitized     86.5     21.5     11.0     31.0   279.5\n",
       "28     Parasitized  10053.0      0.0      0.0      0.0     0.0\n",
       "29     Parasitized  15512.0      0.0      0.0      0.0     0.0\n",
       "...            ...      ...      ...      ...      ...     ...\n",
       "27528   Uninfected  11654.5      0.0      0.0      0.0     0.0\n",
       "27529   Uninfected  12009.0      0.0      0.0      0.0     0.0\n",
       "27530   Uninfected  13863.0      0.0      0.0      0.0     0.0\n",
       "27531   Uninfected  14062.0      0.0      0.0      0.0     0.0\n",
       "27532   Uninfected   9347.0      0.0      0.0      0.0     0.0\n",
       "27533   Uninfected  10034.5      0.0      0.0      0.0     0.0\n",
       "27534   Uninfected  10805.0      0.0      0.0      0.0     0.0\n",
       "27535   Uninfected  10967.5      0.0      0.0      0.0     0.0\n",
       "27536   Uninfected  12183.0      0.0      0.0      0.0     0.0\n",
       "27537   Uninfected  12062.0      0.0      0.0      0.0     0.0\n",
       "27538   Uninfected  13358.0      0.0      0.0      0.0     0.0\n",
       "27539   Uninfected   9560.5      0.0      0.0      0.0     0.0\n",
       "27540   Uninfected  10947.0      0.0      0.0      0.0     0.0\n",
       "27541   Uninfected  10539.5      0.0      0.0      0.0     0.0\n",
       "27542   Uninfected  12894.0      0.0      0.0      0.0     0.0\n",
       "27543   Uninfected   7133.0      0.0      0.0      0.0     0.0\n",
       "27544   Uninfected   8642.5      0.0      0.0      0.0     0.0\n",
       "27545   Uninfected  10348.5      0.0      0.0      0.0     0.0\n",
       "27546   Uninfected  11258.0      0.0      0.0      0.0     0.0\n",
       "27547   Uninfected  13460.0      0.0      0.0      0.0     0.0\n",
       "27548   Uninfected  12548.5      0.0      0.0      0.0     0.0\n",
       "27549   Uninfected  10203.5      0.0      0.0      0.0     0.0\n",
       "27550   Uninfected  10393.0      0.0      0.0      0.0     0.0\n",
       "27551   Uninfected  14049.0      0.0      0.0      0.0     0.0\n",
       "27552   Uninfected   8749.5      0.0      0.0      0.0     0.0\n",
       "27553   Uninfected  13228.0      0.0      0.0      0.0     0.0\n",
       "27554   Uninfected   9757.5      0.0      0.0      0.0     0.0\n",
       "27555   Uninfected    156.0   9927.5      0.0      0.0     0.0\n",
       "27556   Uninfected  13384.5      0.0      0.0      0.0     0.0\n",
       "27557   Uninfected  10203.5      0.0      0.0      0.0     0.0\n",
       "\n",
       "[27558 rows x 6 columns]>"
      ]
     },
     "execution_count": 22,
     "metadata": {},
     "output_type": "execute_result"
    }
   ],
   "source": [
    "dataframe.head"
   ]
  },
  {
   "cell_type": "code",
   "execution_count": 23,
   "metadata": {},
   "outputs": [],
   "source": [
    "x = dataframe.drop([\"Label\"], axis=1)\n",
    "y = dataframe[\"Label\"]\n",
    "x_train, x_test, y_train, y_test = train_test_split(x, y, test_size =0.2, random_state=4)\n"
   ]
  },
  {
   "cell_type": "code",
   "execution_count": 24,
   "metadata": {},
   "outputs": [
    {
     "data": {
      "text/plain": [
       "['rf_malaria_100_5']"
      ]
     },
     "execution_count": 24,
     "metadata": {},
     "output_type": "execute_result"
    }
   ],
   "source": [
    "model = RandomForestClassifier(n_estimators=100, max_depth=5)\n",
    "model.fit(x_train, y_train)\n",
    "joblib.dump(model, \"rf_malaria_100_5\")"
   ]
  },
  {
   "cell_type": "code",
   "execution_count": 25,
   "metadata": {},
   "outputs": [
    {
     "name": "stdout",
     "output_type": "stream",
     "text": [
      "              precision    recall  f1-score   support\n",
      "\n",
      " Parasitized       0.89      0.91      0.90      2739\n",
      "  Uninfected       0.91      0.89      0.90      2773\n",
      "\n",
      "    accuracy                           0.90      5512\n",
      "   macro avg       0.90      0.90      0.90      5512\n",
      "weighted avg       0.90      0.90      0.90      5512\n",
      "\n"
     ]
    }
   ],
   "source": [
    "predictions = model.predict(x_test)\n",
    "print(metrics.classification_report(predictions, y_test))"
   ]
  },
  {
   "cell_type": "code",
   "execution_count": null,
   "metadata": {},
   "outputs": [],
   "source": []
  }
 ],
 "metadata": {
  "kernelspec": {
   "display_name": "Python 3",
   "language": "python",
   "name": "python3"
  },
  "language_info": {
   "codemirror_mode": {
    "name": "ipython",
    "version": 3
   },
   "file_extension": ".py",
   "mimetype": "text/x-python",
   "name": "python",
   "nbconvert_exporter": "python",
   "pygments_lexer": "ipython3",
   "version": "3.6.8"
  }
 },
 "nbformat": 4,
 "nbformat_minor": 2
}
